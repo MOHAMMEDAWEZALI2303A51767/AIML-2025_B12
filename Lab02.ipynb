{
  "nbformat": 4,
  "nbformat_minor": 0,
  "metadata": {
    "colab": {
      "provenance": [],
      "authorship_tag": "ABX9TyMriNjbIsYEC4VzlyKMg59O",
      "include_colab_link": true
    },
    "kernelspec": {
      "name": "python3",
      "display_name": "Python 3"
    },
    "language_info": {
      "name": "python"
    }
  },
  "cells": [
    {
      "cell_type": "markdown",
      "metadata": {
        "id": "view-in-github",
        "colab_type": "text"
      },
      "source": [
        "<a href=\"https://colab.research.google.com/github/MOHAMMEDAWEZALI2303A51767/AIML-2025_B12/blob/main/Lab02.ipynb\" target=\"_parent\"><img src=\"https://colab.research.google.com/assets/colab-badge.svg\" alt=\"Open In Colab\"/></a>"
      ]
    },
    {
      "cell_type": "code",
      "execution_count": 4,
      "metadata": {
        "colab": {
          "base_uri": "https://localhost:8080/"
        },
        "id": "5A99q_o_ShMO",
        "outputId": "09365e91-2635-43b7-c7b8-cf2f70f79fdc"
      },
      "outputs": [
        {
          "output_type": "stream",
          "name": "stdout",
          "text": [
            "BFS traversal of graph with source 1 is:\n",
            "1-->0-->2-->3-->5-->4-->6-->7-->\n"
          ]
        }
      ],
      "source": [
        "from collections import deque\n",
        "\n",
        "def bfs(graph, source):\n",
        "    visited = set()\n",
        "    queue = deque([source])\n",
        "    bfs_result = []\n",
        "\n",
        "    while queue:\n",
        "        node = queue.popleft()\n",
        "\n",
        "        if node not in visited:\n",
        "            bfs_result.append(node)\n",
        "            visited.add(node)\n",
        "\n",
        "            for neighbor in graph[node]:\n",
        "                if neighbor not in visited:\n",
        "                    queue.append(neighbor)\n",
        "\n",
        "    return bfs_result\n",
        "\n",
        "\n",
        "graph = {\n",
        "    0: [1, 2, 3],\n",
        "    1: [0, 2],\n",
        "    2: [1, 3, 5],\n",
        "    3: [0, 2, 4],\n",
        "    4: [3, 5, 7],\n",
        "    5: [2, 4, 6, 7],\n",
        "    6: [5, 7],\n",
        "    7: []\n",
        "}\n",
        "\n",
        "\n",
        "source = 1\n",
        "\n",
        "\n",
        "bfs_traversal = bfs(graph, source)\n",
        "\n",
        "\n",
        "bfs_output = \"-->\".join(map(str, bfs_traversal)) + \"-->\"\n",
        "print(\"BFS traversal of graph with source {} is:\".format(source))\n",
        "print(bfs_output)"
      ]
    }
  ]
}