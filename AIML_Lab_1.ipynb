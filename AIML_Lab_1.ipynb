{
  "nbformat": 4,
  "nbformat_minor": 0,
  "metadata": {
    "colab": {
      "provenance": [],
      "authorship_tag": "ABX9TyP51dIZcFiMXx1+0eh0eelf",
      "include_colab_link": true
    },
    "kernelspec": {
      "name": "python3",
      "display_name": "Python 3"
    },
    "language_info": {
      "name": "python"
    }
  },
  "cells": [
    {
      "cell_type": "markdown",
      "metadata": {
        "id": "view-in-github",
        "colab_type": "text"
      },
      "source": [
        "<a href=\"https://colab.research.google.com/github/MOHAMMEDAWEZALI2303A51767/AIML-2025_B12/blob/main/AIML_Lab_1.ipynb\" target=\"_parent\"><img src=\"https://colab.research.google.com/assets/colab-badge.svg\" alt=\"Open In Colab\"/></a>"
      ]
    },
    {
      "cell_type": "code",
      "execution_count": 4,
      "metadata": {
        "id": "ONaRp2CVSuls",
        "outputId": "97ac5218-84b5-43b1-9f64-b50543732419",
        "colab": {
          "base_uri": "https://localhost:8080/"
        }
      },
      "outputs": [
        {
          "output_type": "stream",
          "name": "stdout",
          "text": [
            "[3, 4, 5, 6, 7, 8, 9, 10, 11, 12]\n",
            "array2 multiplied by array1:  [18 40 28]\n",
            "array2 divided by array1:  [2.   1.6  1.75]\n",
            "array2 raised to the power of array1:  [  216 32768  2401]\n",
            " [6 8 7] raised to the power of [3 5 4]:,[  216 32768  2401]\n",
            "Sine:  [ 0.14112001 -0.95892427 -0.7568025 ]\n",
            "Natural logarithm:  [1.09861229 1.60943791 1.38629436]\n",
            "Base-10 logarithm:  [0.47712125 0.69897    0.60205999]\n",
            "Base-2 logarithm:  [1.5849625  2.32192809 2.        ]\n",
            "Exponential:  [ 20.08553692 148.4131591   54.59815003]\n",
            "Adding two numpy arrays {array1} and {array2} together: [ 9 13 11]\n",
            "Adding two numpy arrays [3 5 4] and [6 8 7] together: [ 9 13 11]\n"
          ]
        }
      ],
      "source": [
        "import numpy as np\n",
        "n = list(range(3,13))\n",
        "print(n)\n",
        "\n",
        "list1=[3,5,4]\n",
        "arr1 = np.array(list1)\n",
        "arr1\n",
        "\n",
        "type(list1)\n",
        "\n",
        "type(arr1)\n",
        "\n",
        "list2=[6,8,7]\n",
        "arr2=np.array(list2)\n",
        "arr2\n",
        "\n",
        "print(\"array2 multiplied by array1: \",arr1*arr2)\n",
        "print(\"array2 divided by array1: \",arr2/arr1)\n",
        "print(\"array2 raised to the power of array1: \",arr2**arr1)\n",
        "print(f\" {arr2} raised to the power of {arr1}:,{arr2**arr1}\")\n",
        "\n",
        "\n",
        "print(\"Sine: \",np.sin(arr1))\n",
        "\n",
        "\n",
        "print(\"Natural logarithm: \",np.log(arr1))\n",
        "print(\"Base-10 logarithm: \",np.log10(arr1))\n",
        "print(\"Base-2 logarithm: \",np.log2(arr1))\n",
        "\n",
        "\n",
        "print(\"Exponential: \",np.exp(arr1))\n",
        "\n",
        "print(\"Adding two numpy arrays {array1} and {array2} together:\", arr1+arr2)\n",
        "\n",
        "print(f\"Adding two numpy arrays {arr1} and {arr2} together: {arr1+arr2}\")\n"
      ]
    }
  ]
}