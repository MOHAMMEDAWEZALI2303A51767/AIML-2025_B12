{
  "nbformat": 4,
  "nbformat_minor": 0,
  "metadata": {
    "colab": {
      "provenance": [],
      "authorship_tag": "ABX9TyPDwh1lWvrn2meAIPScBhzh",
      "include_colab_link": true
    },
    "kernelspec": {
      "name": "python3",
      "display_name": "Python 3"
    },
    "language_info": {
      "name": "python"
    }
  },
  "cells": [
    {
      "cell_type": "markdown",
      "metadata": {
        "id": "view-in-github",
        "colab_type": "text"
      },
      "source": [
        "<a href=\"https://colab.research.google.com/github/MOHAMMEDAWEZALI2303A51767/AIML-2025_B12/blob/main/Lab02_(part2).ipynb\" target=\"_parent\"><img src=\"https://colab.research.google.com/assets/colab-badge.svg\" alt=\"Open In Colab\"/></a>"
      ]
    },
    {
      "cell_type": "code",
      "execution_count": 1,
      "metadata": {
        "colab": {
          "base_uri": "https://localhost:8080/"
        },
        "id": "g7Z8ACWZX0z3",
        "outputId": "6f3f5fd2-e097-4e7a-b23e-6f053b0d3d4c"
      },
      "outputs": [
        {
          "output_type": "stream",
          "name": "stdout",
          "text": [
            "['B', 'A', 'C', 'D', 'E', 'H', 'F', 'G']\n"
          ]
        }
      ],
      "source": [
        "def dfs(graph, start, visited=None, order=None):\n",
        "    if visited is None:\n",
        "        visited = set()\n",
        "    if order is None:\n",
        "        order = []\n",
        "\n",
        "    visited.add(start)\n",
        "    order.append(start)\n",
        "\n",
        "\n",
        "    for neighbor in graph[start]:\n",
        "        if neighbor not in visited:\n",
        "            dfs(graph, neighbor, visited, order)\n",
        "\n",
        "    return order\n",
        "\n",
        "\n",
        "graph1 = {\n",
        "    'A': ['B', 'C', 'G'],\n",
        "    'B': ['A'],\n",
        "    'C': ['A', 'D', 'F'],\n",
        "    'D': ['A', 'C', 'E', 'H'],\n",
        "    'E': ['D', 'H', 'F'],\n",
        "    'F': ['C', 'E', 'G'],\n",
        "    'G': ['A', 'F'],\n",
        "    'H': ['D', 'E']\n",
        "}\n",
        "\n",
        "order = dfs(graph1, 'B')\n",
        "print(order)"
      ]
    }
  ]
}